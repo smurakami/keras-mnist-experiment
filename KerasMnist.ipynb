{
 "cells": [
  {
   "cell_type": "markdown",
   "metadata": {},
   "source": [
    "# MNISTを学習する"
   ]
  },
  {
   "cell_type": "code",
   "execution_count": 1,
   "metadata": {
    "collapsed": false
   },
   "outputs": [
    {
     "name": "stderr",
     "output_type": "stream",
     "text": [
      "Using TensorFlow backend.\n"
     ]
    }
   ],
   "source": [
    "import keras\n",
    "import numpy as np\n",
    "\n",
    "from keras.datasets import mnist\n",
    "from keras.utils import np_utils"
   ]
  },
  {
   "cell_type": "code",
   "execution_count": 2,
   "metadata": {
    "collapsed": true
   },
   "outputs": [],
   "source": [
    "import matplotlib.pyplot as plt\n",
    "import scipy\n",
    "%matplotlib inline"
   ]
  },
  {
   "cell_type": "code",
   "execution_count": 3,
   "metadata": {
    "collapsed": false
   },
   "outputs": [
    {
     "name": "stdout",
     "output_type": "stream",
     "text": [
      "60000 train samples\n",
      "10000 test samples\n"
     ]
    }
   ],
   "source": [
    "# MNISTデータのロード\n",
    "(X_train, y_train), (X_test, y_test) = mnist.load_data()\n",
    "\n",
    "# 画像を1次元配列化\n",
    "X_train = X_train.reshape(60000, 784)\n",
    "X_test = X_test.reshape(10000, 784)\n",
    "\n",
    "# 画素を0.0-1.0の範囲に変換\n",
    "X_train = X_train.astype('float32')\n",
    "X_test = X_test.astype('float32')\n",
    "X_train /= 255\n",
    "X_test /= 255\n",
    "\n",
    "print(X_train.shape[0], 'train samples')\n",
    "print(X_test.shape[0], 'test samples')\n",
    "\n",
    "# one-hot-encoding\n",
    "nb_classes = 10\n",
    "Y_train = np_utils.to_categorical(y_train, nb_classes)\n",
    "Y_test = np_utils.to_categorical(y_test, nb_classes)"
   ]
  },
  {
   "cell_type": "code",
   "execution_count": 4,
   "metadata": {
    "collapsed": false
   },
   "outputs": [],
   "source": [
    "from keras.models import Sequential\n",
    "from keras.layers.core import Dense, Dropout, Activation\n",
    "from keras.optimizers import Adam\n",
    "\n",
    "# モデルの組み立て\n",
    "model = Sequential()\n",
    "model.add(Dense(512, input_shape=(784,)))\n",
    "model.add(Activation('relu'))\n",
    "model.add(Dropout(0.2))\n",
    "model.add(Dense(256))\n",
    "model.add(Activation('relu'))\n",
    "model.add(Dropout(0.2))\n",
    "model.add(Dense(128))\n",
    "model.add(Activation('relu'))\n",
    "model.add(Dropout(0.2))\n",
    "model.add(Dense(64))\n",
    "model.add(Activation('relu'))\n",
    "model.add(Dropout(0.2))\n",
    "model.add(Dense(10))\n",
    "model.add(Activation('softmax'))\n",
    "\n",
    "# モデルをコンパイル\n",
    "model.compile(loss='categorical_crossentropy',\n",
    "              optimizer=Adam(),\n",
    "              metrics=['accuracy'])"
   ]
  },
  {
   "cell_type": "code",
   "execution_count": 5,
   "metadata": {
    "collapsed": false
   },
   "outputs": [
    {
     "name": "stderr",
     "output_type": "stream",
     "text": [
      "/home/smurakami/.pyenv/versions/anaconda3-4.2.0/lib/python3.5/site-packages/keras/models.py:942: UserWarning: The `nb_epoch` argument in `fit` has been renamed `epochs`.\n",
      "  warnings.warn('The `nb_epoch` argument in `fit` '\n"
     ]
    },
    {
     "name": "stdout",
     "output_type": "stream",
     "text": [
      "Train on 54000 samples, validate on 6000 samples\n",
      "Epoch 1/20\n",
      "54000/54000 [==============================] - 4s 71us/step - loss: 0.3963 - acc: 0.8813 - val_loss: 0.1111 - val_acc: 0.9705\n",
      "Epoch 2/20\n",
      "54000/54000 [==============================] - 3s 57us/step - loss: 0.1501 - acc: 0.9577 - val_loss: 0.0794 - val_acc: 0.9765\n",
      "Epoch 3/20\n",
      "54000/54000 [==============================] - 3s 57us/step - loss: 0.1104 - acc: 0.9690 - val_loss: 0.0848 - val_acc: 0.9748\n",
      "Epoch 4/20\n",
      "54000/54000 [==============================] - 3s 56us/step - loss: 0.0896 - acc: 0.9736 - val_loss: 0.0768 - val_acc: 0.9782\n",
      "Epoch 5/20\n",
      "54000/54000 [==============================] - 3s 57us/step - loss: 0.0750 - acc: 0.9791 - val_loss: 0.0665 - val_acc: 0.9830\n",
      "Epoch 6/20\n",
      "54000/54000 [==============================] - 3s 56us/step - loss: 0.0627 - acc: 0.9814 - val_loss: 0.0742 - val_acc: 0.9802\n",
      "Epoch 7/20\n",
      "54000/54000 [==============================] - 3s 56us/step - loss: 0.0573 - acc: 0.9828 - val_loss: 0.0773 - val_acc: 0.9800\n",
      "Epoch 8/20\n",
      "54000/54000 [==============================] - 3s 56us/step - loss: 0.0481 - acc: 0.9855 - val_loss: 0.0779 - val_acc: 0.9802\n",
      "Epoch 9/20\n",
      "54000/54000 [==============================] - 3s 57us/step - loss: 0.0460 - acc: 0.9863 - val_loss: 0.0747 - val_acc: 0.9818\n",
      "Epoch 10/20\n",
      "54000/54000 [==============================] - 3s 56us/step - loss: 0.0399 - acc: 0.9882 - val_loss: 0.0626 - val_acc: 0.9840\n",
      "Epoch 11/20\n",
      "54000/54000 [==============================] - 3s 57us/step - loss: 0.0366 - acc: 0.9891 - val_loss: 0.0619 - val_acc: 0.9825\n",
      "Epoch 12/20\n",
      "54000/54000 [==============================] - 3s 57us/step - loss: 0.0368 - acc: 0.9896 - val_loss: 0.0728 - val_acc: 0.9823\n",
      "Epoch 13/20\n",
      "54000/54000 [==============================] - 3s 56us/step - loss: 0.0310 - acc: 0.9908 - val_loss: 0.0882 - val_acc: 0.9792\n",
      "Epoch 14/20\n",
      "54000/54000 [==============================] - 3s 56us/step - loss: 0.0343 - acc: 0.9896 - val_loss: 0.0725 - val_acc: 0.9813\n",
      "Epoch 15/20\n",
      "54000/54000 [==============================] - 3s 57us/step - loss: 0.0293 - acc: 0.9915 - val_loss: 0.0705 - val_acc: 0.9857\n",
      "Epoch 16/20\n",
      "54000/54000 [==============================] - 3s 56us/step - loss: 0.0293 - acc: 0.9916 - val_loss: 0.0689 - val_acc: 0.9833\n",
      "Epoch 17/20\n",
      "54000/54000 [==============================] - 3s 56us/step - loss: 0.0284 - acc: 0.9915 - val_loss: 0.0679 - val_acc: 0.9840\n",
      "Epoch 18/20\n",
      "54000/54000 [==============================] - 3s 56us/step - loss: 0.0221 - acc: 0.9929 - val_loss: 0.0720 - val_acc: 0.9835\n",
      "Epoch 19/20\n",
      "54000/54000 [==============================] - 3s 57us/step - loss: 0.0242 - acc: 0.9927 - val_loss: 0.0795 - val_acc: 0.9815\n",
      "Epoch 20/20\n",
      "54000/54000 [==============================] - 3s 57us/step - loss: 0.0237 - acc: 0.9926 - val_loss: 0.0676 - val_acc: 0.9845\n"
     ]
    }
   ],
   "source": [
    "# Early-stopping\n",
    "# early_stopping = keras.callbacks.EarlyStopping(patience=0, verbose=1)\n",
    "\n",
    "# モデルの訓練\n",
    "history = model.fit(X_train, Y_train,\n",
    "                    batch_size=128,\n",
    "                    nb_epoch=20,\n",
    "                    verbose=1,\n",
    "                    validation_split=0.1,\n",
    "                    callbacks=[])"
   ]
  },
  {
   "cell_type": "code",
   "execution_count": 58,
   "metadata": {
    "collapsed": false,
    "scrolled": true
   },
   "outputs": [
    {
     "data": {
      "text/html": [
       "\n",
       "<table>\n",
       "<td style=\"border-style: none;\">\n",
       "<div style=\"border: solid 2px #666; width: 280px; height: 280px;\">\n",
       "<canvas width=\"140\" height=\"140\", style=\"border: solid 2px #666; width: 280px; height: 280px;\"></canvas>\n",
       "</td>\n",
       "<td style=\"border-style: none;\">\n",
       "<button onclick=\"clear_value()\">Clear</button>\n",
       "<button onclick=\"set_value()\">Save</button>\n",
       "\n",
       "</td>\n",
       "</table>\n",
       "\n",
       "<script type=\"text/Javascript\">\n",
       "\tvar pixels = [];\n",
       "\tfor(var i = 0; i < 28*28; i++) pixels[i] = 0\n",
       "\tvar click=0;\n",
       "\tvar button_state=0;\n",
       "    \n",
       "    var width = 140;\n",
       "    var height = 140;\n",
       "    \n",
       "\tvar canvas = document.querySelector(\"canvas\");\n",
       "    var prev = null;\n",
       "    \n",
       "    canvas.addEventListener(\"mousedown\", function(e){\n",
       "        button_state=1;\n",
       "        prev = {x: e.offsetX/2, y: e.offsetY/2};\n",
       "    });\n",
       "    canvas.addEventListener(\"mouseup\", function(e){\n",
       "        button_state=0;\n",
       "//        set_value();\n",
       "    });\n",
       "    canvas.addEventListener(\"mouseleave\", function(e){\n",
       "        button_state=0;\n",
       "    });\n",
       "\t\n",
       "\tcanvas.addEventListener(\"mousemove\", function(e){\n",
       "        if(button_state){\n",
       "            var pos = {x: e.offsetX/2, y: e.offsetY/2};;\n",
       "            click = 1;\n",
       "            canvas.getContext(\"2d\").beginPath()\n",
       "            canvas.getContext(\"2d\").lineCap = \"round\";\n",
       "\t\t\tcanvas.getContext(\"2d\").lineWidth = 16;\n",
       "\t\t\tcanvas.getContext(\"2d\").strokeStyle = 'rgba(0, 0, 0, 1)';\n",
       "\t\t\tcanvas.getContext(\"2d\").moveTo(prev.x, prev.y);\n",
       "\t\t\tcanvas.getContext(\"2d\").lineTo(pos.x, pos.y);\n",
       "\t\t\tcanvas.getContext(\"2d\").stroke();\n",
       "//            canvas.getContext(\"2d\").endPath()\n",
       "            prev = pos;\n",
       "            \n",
       "\t\t}else{\n",
       "//            if(click == 1) set_value()\n",
       "\t\t\tclick = 0;\n",
       "\t\t}\n",
       "\t});\n",
       "    \n",
       "    function callback(out_type, out_data){\n",
       "        // do_something\n",
       "        console.log(out_data);\n",
       "    }\n",
       "\t\n",
       "\tfunction set_value(){\n",
       "        var pix = canvas.getContext(\"2d\").getImageData(0, 0, width, height).data;\n",
       "\t\tvar result = \"\";\n",
       "\t\tfor(var i=0;i<pix.length;i++) result += pix[i] + \",\";\n",
       "\t\tvar kernel = IPython.notebook.kernel;\n",
       "\t\tkernel.execute(\"image = [\" + result + \"]\");\n",
       "\t\tkernel.execute(\"image = np.array(image)\");\n",
       "\t\tkernel.execute(\"image = image.reshape(\" + height + \", \" + width + \", 4)\");\n",
       "\t\tkernel.execute(\"image = image[:, :, 0:3].sum(axis=2)/3\");\n",
       "\t\tkernel.execute(\"image = scipy.misc.imresize(image, (28, 28))\");       \n",
       "\t\tkernel.execute(\"image = 1 - (image / 255.0)\");       \n",
       "        kernel.execute(\"np.argmax(model.predict(image.reshape(-1, 784)))\", {\"output\": callback});\n",
       "\t}\n",
       "\t\n",
       "\tfunction clear_value(){\n",
       "        canvas.getContext(\"2d\").fillStyle = \"rgb(255,255,255)\";\n",
       "\t\tcanvas.getContext(\"2d\").fillRect(0,0, width,height);\n",
       "\t\tfor(var i=0;i<28*28;i++) pixels[i]=0\n",
       "\t}\n",
       "    \n",
       "    clear_value()\n",
       "</script>\n"
      ],
      "text/plain": [
       "<IPython.core.display.HTML object>"
      ]
     },
     "execution_count": 58,
     "metadata": {},
     "output_type": "execute_result"
    }
   ],
   "source": [
    "input_form = \"\"\"\n",
    "<table>\n",
    "<td style=\"border-style: none;\">\n",
    "<div style=\"border: solid 2px #666; width: 280px; height: 280px;\">\n",
    "<canvas width=\"140\" height=\"140\", style=\"border: solid 2px #666; width: 280px; height: 280px;\"></canvas>\n",
    "</td>\n",
    "<td style=\"border-style: none;\">\n",
    "<button onclick=\"clear_value()\">Clear</button>\n",
    "<button onclick=\"set_value()\">Save</button>\n",
    "\n",
    "</td>\n",
    "</table>\n",
    "\"\"\"\n",
    "\n",
    "javascript=\"\"\"\n",
    "<script type=\"text/Javascript\">\n",
    "\tvar pixels = [];\n",
    "\tfor(var i = 0; i < 28*28; i++) pixels[i] = 0\n",
    "\tvar click=0;\n",
    "\tvar button_state=0;\n",
    "    \n",
    "    var width = 140;\n",
    "    var height = 140;\n",
    "    \n",
    "\tvar canvas = document.querySelector(\"canvas\");\n",
    "    var prev = null;\n",
    "    \n",
    "    canvas.addEventListener(\"mousedown\", function(e){\n",
    "        button_state=1;\n",
    "        prev = {x: e.offsetX/2, y: e.offsetY/2};\n",
    "    });\n",
    "    canvas.addEventListener(\"mouseup\", function(e){\n",
    "        button_state=0;\n",
    "//        set_value();\n",
    "    });\n",
    "    canvas.addEventListener(\"mouseleave\", function(e){\n",
    "        button_state=0;\n",
    "    });\n",
    "\t\n",
    "\tcanvas.addEventListener(\"mousemove\", function(e){\n",
    "        if(button_state){\n",
    "            var pos = {x: e.offsetX/2, y: e.offsetY/2};;\n",
    "            click = 1;\n",
    "            canvas.getContext(\"2d\").beginPath()\n",
    "            canvas.getContext(\"2d\").lineCap = \"round\";\n",
    "\t\t\tcanvas.getContext(\"2d\").lineWidth = 16;\n",
    "\t\t\tcanvas.getContext(\"2d\").strokeStyle = 'rgba(0, 0, 0, 1)';\n",
    "\t\t\tcanvas.getContext(\"2d\").moveTo(prev.x, prev.y);\n",
    "\t\t\tcanvas.getContext(\"2d\").lineTo(pos.x, pos.y);\n",
    "\t\t\tcanvas.getContext(\"2d\").stroke();\n",
    "//            canvas.getContext(\"2d\").endPath()\n",
    "            prev = pos;\n",
    "            \n",
    "\t\t}else{\n",
    "//            if(click == 1) set_value()\n",
    "\t\t\tclick = 0;\n",
    "\t\t}\n",
    "\t});\n",
    "    \n",
    "    function callback(out_type, out_data){\n",
    "        // do_something\n",
    "        console.log(out_data);\n",
    "    }\n",
    "\t\n",
    "\tfunction set_value(){\n",
    "        var pix = canvas.getContext(\"2d\").getImageData(0, 0, width, height).data;\n",
    "\t\tvar result = \"\";\n",
    "\t\tfor(var i=0;i<pix.length;i++) result += pix[i] + \",\";\n",
    "\t\tvar kernel = IPython.notebook.kernel;\n",
    "\t\tkernel.execute(\"image = [\" + result + \"]\");\n",
    "\t\tkernel.execute(\"image = np.array(image)\");\n",
    "\t\tkernel.execute(\"image = image.reshape(\" + height + \", \" + width + \", 4)\");\n",
    "\t\tkernel.execute(\"image = image[:, :, 0:3].sum(axis=2)/3\");\n",
    "\t\tkernel.execute(\"image = scipy.misc.imresize(image, (28, 28))\");       \n",
    "\t\tkernel.execute(\"image = 1 - (image / 255.0)\");       \n",
    "        kernel.execute(\"np.argmax(model.predict(image.reshape(-1, 784)))\", {\"output\": callback});\n",
    "\t}\n",
    "\t\n",
    "\tfunction clear_value(){\n",
    "        canvas.getContext(\"2d\").fillStyle = \"rgb(255,255,255)\";\n",
    "\t\tcanvas.getContext(\"2d\").fillRect(0,0, width,height);\n",
    "\t\tfor(var i=0;i<28*28;i++) pixels[i]=0\n",
    "\t}\n",
    "    \n",
    "    clear_value()\n",
    "</script>\n",
    "\"\"\"\n",
    "\n",
    "from IPython.display import HTML\n",
    "HTML(input_form + javascript)"
   ]
  },
  {
   "cell_type": "code",
   "execution_count": 61,
   "metadata": {
    "collapsed": false
   },
   "outputs": [
    {
     "data": {
      "text/plain": [
       "7"
      ]
     },
     "execution_count": 61,
     "metadata": {},
     "output_type": "execute_result"
    }
   ],
   "source": [
    "np.argmax(model.predict(image.reshape(-1, 784)))"
   ]
  },
  {
   "cell_type": "code",
   "execution_count": 49,
   "metadata": {
    "collapsed": false
   },
   "outputs": [
    {
     "data": {
      "text/plain": [
       "<matplotlib.image.AxesImage at 0x7f4a85f99320>"
      ]
     },
     "execution_count": 49,
     "metadata": {},
     "output_type": "execute_result"
    },
    {
     "data": {
      "image/png": "[encoded data removed]",
      "text/plain": [
       "<matplotlib.figure.Figure at 0x7f4a4cbdfef0>"
      ]
     },
     "metadata": {},
     "output_type": "display_data"
    }
   ],
   "source": [
    "plt.figure(figsize=(100, 1))\n",
    "plt.imshow(image.reshape(1, -1), cmap='gray', interpolation='nearest')"
   ]
  },
  {
   "cell_type": "code",
   "execution_count": null,
   "metadata": {
    "collapsed": true
   },
   "outputs": [],
   "source": []
  }
 ],
 "metadata": {
  "anaconda-cloud": {},
  "kernelspec": {
   "display_name": "Python [default]",
   "language": "python",
   "name": "python3"
  },
  "language_info": {
   "codemirror_mode": {
    "name": "ipython",
    "version": 3
   },
   "file_extension": ".py",
   "mimetype": "text/x-python",
   "name": "python",
   "nbconvert_exporter": "python",
   "pygments_lexer": "ipython3",
   "version": "3.5.2"
  }
 },
 "nbformat": 4,
 "nbformat_minor": 1
}
